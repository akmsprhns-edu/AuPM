{
 "metadata": {
  "language_info": {
   "codemirror_mode": {
    "name": "ipython",
    "version": 3
   },
   "file_extension": ".py",
   "mimetype": "text/x-python",
   "name": "python",
   "nbconvert_exporter": "python",
   "pygments_lexer": "ipython3",
   "version": "3.8.6-final"
  },
  "orig_nbformat": 2,
  "kernelspec": {
   "name": "python3",
   "display_name": "Python 3.8.6 64-bit",
   "metadata": {
    "interpreter": {
     "hash": "5c0372ed38b372118c24adb00d45654d76c8d10261533c5724e3f5fc1d75489a"
    }
   }
  }
 },
 "nbformat": 4,
 "nbformat_minor": 2,
 "cells": [
  {
   "cell_type": "code",
   "execution_count": 66,
   "metadata": {},
   "outputs": [],
   "source": [
    "# Parahins Akims PD1"
   ]
  },
  {
   "cell_type": "code",
   "execution_count": 67,
   "metadata": {},
   "outputs": [],
   "source": [
    "\n",
    "def search(file_name):\n",
    "  #init variables\n",
    "  start_idx = None\n",
    "  end_idx = None\n",
    "  min_number = None\n",
    "  min_idx = None\n",
    "  max_difference = 0\n",
    "  #read file line by line\n",
    "  with open(file_name, 'r') as fin:\n",
    "    for current_idx, line in enumerate(fin):\n",
    "      current_number = int(line) #read line as integer\n",
    "      if(min_number is None or current_number < min_number):\n",
    "        #In case current number is less than stored minimal number, store current as new minimum\n",
    "        min_number = current_number\n",
    "        min_idx = current_idx\n",
    "      else:\n",
    "        #If number isn't new minimum, calculate difference\n",
    "        diff = current_number - min_number\n",
    "        if(diff > max_difference):\n",
    "          #In case current difference is greater than stored maximal difference, store current as new maximum\n",
    "          max_difference = diff \n",
    "          start_idx = min_idx\n",
    "          end_idx = current_idx\n",
    "  #print result\n",
    "  print(f'maximal difference = {max_difference}')\n",
    "  print(f'from index {start_idx} to index {end_idx}')"
   ]
  },
  {
   "cell_type": "code",
   "execution_count": 68,
   "metadata": {},
   "outputs": [
    {
     "output_type": "stream",
     "name": "stdout",
     "text": [
      "maximal difference = 46\nfrom index 4 to index 8\n"
     ]
    }
   ],
   "source": [
    "search('ints_10.txt')"
   ]
  },
  {
   "cell_type": "code",
   "execution_count": 69,
   "metadata": {},
   "outputs": [
    {
     "output_type": "stream",
     "name": "stdout",
     "text": [
      "maximal difference = 962\nfrom index 71 to index 90\n"
     ]
    }
   ],
   "source": [
    "search('ints_100.txt')"
   ]
  },
  {
   "cell_type": "code",
   "execution_count": 70,
   "metadata": {},
   "outputs": [
    {
     "output_type": "stream",
     "name": "stdout",
     "text": [
      "maximal difference = 9988\nfrom index 77 to index 87\n"
     ]
    }
   ],
   "source": [
    "search('ints_1K.txt')"
   ]
  },
  {
   "cell_type": "code",
   "execution_count": 71,
   "metadata": {},
   "outputs": [
    {
     "output_type": "stream",
     "name": "stdout",
     "text": [
      "maximal difference = 99971\nfrom index 2782 to index 5698\n"
     ]
    }
   ],
   "source": [
    "search('ints_10K.txt')"
   ]
  },
  {
   "cell_type": "code",
   "execution_count": 72,
   "metadata": {},
   "outputs": [
    {
     "output_type": "stream",
     "name": "stdout",
     "text": [
      "maximal difference = 999982\nfrom index 36171 to index 98747\n"
     ]
    }
   ],
   "source": [
    "search('ints_100K.txt')"
   ]
  },
  {
   "cell_type": "code",
   "execution_count": 73,
   "metadata": {},
   "outputs": [
    {
     "output_type": "stream",
     "name": "stdout",
     "text": [
      "maximal difference = 9999964\nfrom index 653475 to index 740390\n"
     ]
    }
   ],
   "source": [
    "search('ints_1M.txt')"
   ]
  },
  {
   "cell_type": "code",
   "execution_count": 74,
   "metadata": {},
   "outputs": [
    {
     "output_type": "stream",
     "name": "stdout",
     "text": [
      "maximal difference = 99999960\nfrom index 6247860 to index 7832016\n"
     ]
    }
   ],
   "source": [
    "search('ints_10M.txt')"
   ]
  }
 ]
}